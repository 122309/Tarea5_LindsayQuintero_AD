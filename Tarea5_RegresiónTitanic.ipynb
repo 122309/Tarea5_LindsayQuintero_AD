{
 "cells": [
  {
   "cell_type": "markdown",
   "id": "7d7df291-5b35-4d45-b440-addfe507544c",
   "metadata": {},
   "source": [
    "# Regresión lineal Titanic\n"
   ]
  },
  {
   "cell_type": "raw",
   "id": "257bde6b-e939-4459-99c1-4d62a9d56606",
   "metadata": {},
   "source": [
    "Lindsay Andrea Quintero Hernádez\n",
    "Análisis de datos\n",
    "Grupo 20"
   ]
  },
  {
   "cell_type": "markdown",
   "id": "f71a2914-2ef0-4752-b598-80dda517cefb",
   "metadata": {},
   "source": [
    "### 1. Análisis exploratorio de datos"
   ]
  },
  {
   "cell_type": "code",
   "execution_count": 1,
   "id": "11944c2a-d2a7-4c85-86f0-e9a461834c4e",
   "metadata": {},
   "outputs": [],
   "source": [
    "#1 Realizar un análisis exploratorio de los datos para identificar relaciones entre variables, valores atípicos, tendencias, etc"
   ]
  },
  {
   "cell_type": "code",
   "execution_count": 15,
   "id": "4e4b6af9-922c-4d2a-b806-7b77299777cf",
   "metadata": {},
   "outputs": [],
   "source": [
    "#Importar librerias\n",
    "import pandas as pd #Manejo y análisis de estructuras de datos\n",
    "import numpy as mp # Cálculo numético y análisis de datos\n",
    "import seaborn as sns # Creación gráficos estadísticos\n",
    "import matplotlib.pyplot as plt #Creación de gráficos en dos dimensiones\n",
    "\n",
    "#librerias para implementar modelos de ciencia de datos\n",
    "from sklearn import metrics\n",
    "from sklearn.model_selection import train_test_split\n",
    "from sklearn.linear_model import LogisticRegression\n",
    "from sklearn.linear_model import LinearRegression #-> libreria para Regresion Linea\n",
    "from sklearn.metrics import classification_report\n",
    "import matplotlib.pyplot as plt\n",
    "from sklearn.metrics import precision_score, recall_score, f1_score, accuracy_score\n",
    "import numpy as np\n"
   ]
  },
  {
   "cell_type": "code",
   "execution_count": 16,
   "id": "3200b70d-143c-4939-af3c-421bb839eaf3",
   "metadata": {},
   "outputs": [],
   "source": [
    "#Lectura de datos en  Python y cargamos en la variable de de Datos7  \n",
    "db = pd.read_csv('D:\\Proyecto2024\\Data\\Titanic-Dataset.csv') "
   ]
  },
  {
   "cell_type": "code",
   "execution_count": 17,
   "id": "66c4476b-7f36-44a3-8ff3-62dbb46304ea",
   "metadata": {},
   "outputs": [],
   "source": [
    "## Convertir variable categorica sexo a numerica, reemplazar femenino 1 y masculino 0\n",
    "db['Sex'] = db['Sex'].replace({'female': 1, 'male': 0})"
   ]
  },
  {
   "cell_type": "code",
   "execution_count": 5,
   "id": "5ae42487-073d-4877-bacf-a92998306156",
   "metadata": {},
   "outputs": [
    {
     "data": {
      "text/html": [
       "<div>\n",
       "<style scoped>\n",
       "    .dataframe tbody tr th:only-of-type {\n",
       "        vertical-align: middle;\n",
       "    }\n",
       "\n",
       "    .dataframe tbody tr th {\n",
       "        vertical-align: top;\n",
       "    }\n",
       "\n",
       "    .dataframe thead th {\n",
       "        text-align: right;\n",
       "    }\n",
       "</style>\n",
       "<table border=\"1\" class=\"dataframe\">\n",
       "  <thead>\n",
       "    <tr style=\"text-align: right;\">\n",
       "      <th></th>\n",
       "      <th>PassengerId</th>\n",
       "      <th>Survived</th>\n",
       "      <th>Pclass</th>\n",
       "      <th>Sex</th>\n",
       "      <th>Age</th>\n",
       "      <th>SibSp</th>\n",
       "      <th>Parch</th>\n",
       "      <th>Fare</th>\n",
       "    </tr>\n",
       "  </thead>\n",
       "  <tbody>\n",
       "    <tr>\n",
       "      <th>count</th>\n",
       "      <td>891.000000</td>\n",
       "      <td>891.000000</td>\n",
       "      <td>891.000000</td>\n",
       "      <td>891.000000</td>\n",
       "      <td>714.000000</td>\n",
       "      <td>891.000000</td>\n",
       "      <td>891.000000</td>\n",
       "      <td>891.000000</td>\n",
       "    </tr>\n",
       "    <tr>\n",
       "      <th>mean</th>\n",
       "      <td>446.000000</td>\n",
       "      <td>0.383838</td>\n",
       "      <td>2.308642</td>\n",
       "      <td>0.352413</td>\n",
       "      <td>29.699118</td>\n",
       "      <td>0.523008</td>\n",
       "      <td>0.381594</td>\n",
       "      <td>32.204208</td>\n",
       "    </tr>\n",
       "    <tr>\n",
       "      <th>std</th>\n",
       "      <td>257.353842</td>\n",
       "      <td>0.486592</td>\n",
       "      <td>0.836071</td>\n",
       "      <td>0.477990</td>\n",
       "      <td>14.526497</td>\n",
       "      <td>1.102743</td>\n",
       "      <td>0.806057</td>\n",
       "      <td>49.693429</td>\n",
       "    </tr>\n",
       "    <tr>\n",
       "      <th>min</th>\n",
       "      <td>1.000000</td>\n",
       "      <td>0.000000</td>\n",
       "      <td>1.000000</td>\n",
       "      <td>0.000000</td>\n",
       "      <td>0.420000</td>\n",
       "      <td>0.000000</td>\n",
       "      <td>0.000000</td>\n",
       "      <td>0.000000</td>\n",
       "    </tr>\n",
       "    <tr>\n",
       "      <th>25%</th>\n",
       "      <td>223.500000</td>\n",
       "      <td>0.000000</td>\n",
       "      <td>2.000000</td>\n",
       "      <td>0.000000</td>\n",
       "      <td>20.125000</td>\n",
       "      <td>0.000000</td>\n",
       "      <td>0.000000</td>\n",
       "      <td>7.910400</td>\n",
       "    </tr>\n",
       "    <tr>\n",
       "      <th>50%</th>\n",
       "      <td>446.000000</td>\n",
       "      <td>0.000000</td>\n",
       "      <td>3.000000</td>\n",
       "      <td>0.000000</td>\n",
       "      <td>28.000000</td>\n",
       "      <td>0.000000</td>\n",
       "      <td>0.000000</td>\n",
       "      <td>14.454200</td>\n",
       "    </tr>\n",
       "    <tr>\n",
       "      <th>75%</th>\n",
       "      <td>668.500000</td>\n",
       "      <td>1.000000</td>\n",
       "      <td>3.000000</td>\n",
       "      <td>1.000000</td>\n",
       "      <td>38.000000</td>\n",
       "      <td>1.000000</td>\n",
       "      <td>0.000000</td>\n",
       "      <td>31.000000</td>\n",
       "    </tr>\n",
       "    <tr>\n",
       "      <th>max</th>\n",
       "      <td>891.000000</td>\n",
       "      <td>1.000000</td>\n",
       "      <td>3.000000</td>\n",
       "      <td>1.000000</td>\n",
       "      <td>80.000000</td>\n",
       "      <td>8.000000</td>\n",
       "      <td>6.000000</td>\n",
       "      <td>512.329200</td>\n",
       "    </tr>\n",
       "  </tbody>\n",
       "</table>\n",
       "</div>"
      ],
      "text/plain": [
       "       PassengerId    Survived      Pclass         Sex         Age  \\\n",
       "count   891.000000  891.000000  891.000000  891.000000  714.000000   \n",
       "mean    446.000000    0.383838    2.308642    0.352413   29.699118   \n",
       "std     257.353842    0.486592    0.836071    0.477990   14.526497   \n",
       "min       1.000000    0.000000    1.000000    0.000000    0.420000   \n",
       "25%     223.500000    0.000000    2.000000    0.000000   20.125000   \n",
       "50%     446.000000    0.000000    3.000000    0.000000   28.000000   \n",
       "75%     668.500000    1.000000    3.000000    1.000000   38.000000   \n",
       "max     891.000000    1.000000    3.000000    1.000000   80.000000   \n",
       "\n",
       "            SibSp       Parch        Fare  \n",
       "count  891.000000  891.000000  891.000000  \n",
       "mean     0.523008    0.381594   32.204208  \n",
       "std      1.102743    0.806057   49.693429  \n",
       "min      0.000000    0.000000    0.000000  \n",
       "25%      0.000000    0.000000    7.910400  \n",
       "50%      0.000000    0.000000   14.454200  \n",
       "75%      1.000000    0.000000   31.000000  \n",
       "max      8.000000    6.000000  512.329200  "
      ]
     },
     "execution_count": 5,
     "metadata": {},
     "output_type": "execute_result"
    }
   ],
   "source": [
    "db.describe()"
   ]
  },
  {
   "cell_type": "raw",
   "id": "fdaf1b7d-6919-420b-8c6d-c4c16989aa77",
   "metadata": {},
   "source": [
    "Se observan 891 registros, se observa que la final age está incompleta, así que hay que agregar datos al modelo, se observa que la variable sobreviviente es una variable categórica con valor 0 o 1 (no sobrevivió, sobrevivió), la PClase tiene velor 0, 1, 2 o 3, dependiendo de la clase socio económica de la persona, el sexo puede se femenino a masculino, el SibSp va de 0 a 8, el parch de 0 a 6; por otra parte,  las edades de la tripulación van de aproximadamente 5 meses o 0,47 años y 80 años, la mayoría de la tripulación de 29 a 30 años según la media, se podría decir que la mayoría está entre 28 y 30, debido a qué según el cuartil 2 o percentil 50 es el valor en posición central y no tiene afectaciones de valores extremos que la media aritmética, util en valores atipicos, ahora bien, la tarifa va de 0 a 512,3292 según el pasajero."
   ]
  },
  {
   "cell_type": "code",
   "execution_count": 6,
   "id": "cd1bee25-2643-40e6-a5b2-617c5e40142f",
   "metadata": {},
   "outputs": [
    {
     "name": "stdout",
     "output_type": "stream",
     "text": [
      "              Age    Survived        Fare      Pclass       Parch\n",
      "count  714.000000  891.000000  891.000000  891.000000  891.000000\n",
      "mean    29.699118    0.383838   32.204208    2.308642    0.381594\n",
      "std     14.526497    0.486592   49.693429    0.836071    0.806057\n",
      "min      0.420000    0.000000    0.000000    1.000000    0.000000\n",
      "25%     20.125000    0.000000    7.910400    2.000000    0.000000\n",
      "50%     28.000000    0.000000   14.454200    3.000000    0.000000\n",
      "75%     38.000000    1.000000   31.000000    3.000000    0.000000\n",
      "max     80.000000    1.000000  512.329200    3.000000    6.000000\n"
     ]
    }
   ],
   "source": [
    "#Descripción de los datos\n",
    "descripcion_columnas = db[['Age', 'Survived', 'Fare', 'Pclass', 'Parch']].describe()\n",
    "print(descripcion_columnas)"
   ]
  },
  {
   "cell_type": "raw",
   "id": "c7226d47-fb62-4cf3-9fe6-8f2d3a746bce",
   "metadata": {},
   "source": [
    "Solamente se análizarán las variables numericas, en este caso se "
   ]
  },
  {
   "cell_type": "code",
   "execution_count": 18,
   "id": "705878da-e85d-4706-bf6f-f5ef3596e874",
   "metadata": {},
   "outputs": [
    {
     "data": {
      "text/html": [
       "<div>\n",
       "<style scoped>\n",
       "    .dataframe tbody tr th:only-of-type {\n",
       "        vertical-align: middle;\n",
       "    }\n",
       "\n",
       "    .dataframe tbody tr th {\n",
       "        vertical-align: top;\n",
       "    }\n",
       "\n",
       "    .dataframe thead th {\n",
       "        text-align: right;\n",
       "    }\n",
       "</style>\n",
       "<table border=\"1\" class=\"dataframe\">\n",
       "  <thead>\n",
       "    <tr style=\"text-align: right;\">\n",
       "      <th></th>\n",
       "      <th>PassengerId</th>\n",
       "      <th>Survived</th>\n",
       "      <th>Pclass</th>\n",
       "      <th>Name</th>\n",
       "      <th>Sex</th>\n",
       "      <th>Age</th>\n",
       "      <th>SibSp</th>\n",
       "      <th>Parch</th>\n",
       "      <th>Ticket</th>\n",
       "      <th>Fare</th>\n",
       "      <th>Cabin</th>\n",
       "      <th>Embarked</th>\n",
       "    </tr>\n",
       "  </thead>\n",
       "  <tbody>\n",
       "    <tr>\n",
       "      <th>0</th>\n",
       "      <td>1</td>\n",
       "      <td>0</td>\n",
       "      <td>3</td>\n",
       "      <td>Braund, Mr. Owen Harris</td>\n",
       "      <td>0</td>\n",
       "      <td>22.0</td>\n",
       "      <td>1</td>\n",
       "      <td>0</td>\n",
       "      <td>A/5 21171</td>\n",
       "      <td>7.2500</td>\n",
       "      <td>NaN</td>\n",
       "      <td>S</td>\n",
       "    </tr>\n",
       "    <tr>\n",
       "      <th>1</th>\n",
       "      <td>2</td>\n",
       "      <td>1</td>\n",
       "      <td>1</td>\n",
       "      <td>Cumings, Mrs. John Bradley (Florence Briggs Th...</td>\n",
       "      <td>1</td>\n",
       "      <td>38.0</td>\n",
       "      <td>1</td>\n",
       "      <td>0</td>\n",
       "      <td>PC 17599</td>\n",
       "      <td>71.2833</td>\n",
       "      <td>C85</td>\n",
       "      <td>C</td>\n",
       "    </tr>\n",
       "    <tr>\n",
       "      <th>2</th>\n",
       "      <td>3</td>\n",
       "      <td>1</td>\n",
       "      <td>3</td>\n",
       "      <td>Heikkinen, Miss. Laina</td>\n",
       "      <td>1</td>\n",
       "      <td>26.0</td>\n",
       "      <td>0</td>\n",
       "      <td>0</td>\n",
       "      <td>STON/O2. 3101282</td>\n",
       "      <td>7.9250</td>\n",
       "      <td>NaN</td>\n",
       "      <td>S</td>\n",
       "    </tr>\n",
       "    <tr>\n",
       "      <th>3</th>\n",
       "      <td>4</td>\n",
       "      <td>1</td>\n",
       "      <td>1</td>\n",
       "      <td>Futrelle, Mrs. Jacques Heath (Lily May Peel)</td>\n",
       "      <td>1</td>\n",
       "      <td>35.0</td>\n",
       "      <td>1</td>\n",
       "      <td>0</td>\n",
       "      <td>113803</td>\n",
       "      <td>53.1000</td>\n",
       "      <td>C123</td>\n",
       "      <td>S</td>\n",
       "    </tr>\n",
       "    <tr>\n",
       "      <th>4</th>\n",
       "      <td>5</td>\n",
       "      <td>0</td>\n",
       "      <td>3</td>\n",
       "      <td>Allen, Mr. William Henry</td>\n",
       "      <td>0</td>\n",
       "      <td>35.0</td>\n",
       "      <td>0</td>\n",
       "      <td>0</td>\n",
       "      <td>373450</td>\n",
       "      <td>8.0500</td>\n",
       "      <td>NaN</td>\n",
       "      <td>S</td>\n",
       "    </tr>\n",
       "    <tr>\n",
       "      <th>...</th>\n",
       "      <td>...</td>\n",
       "      <td>...</td>\n",
       "      <td>...</td>\n",
       "      <td>...</td>\n",
       "      <td>...</td>\n",
       "      <td>...</td>\n",
       "      <td>...</td>\n",
       "      <td>...</td>\n",
       "      <td>...</td>\n",
       "      <td>...</td>\n",
       "      <td>...</td>\n",
       "      <td>...</td>\n",
       "    </tr>\n",
       "    <tr>\n",
       "      <th>886</th>\n",
       "      <td>887</td>\n",
       "      <td>0</td>\n",
       "      <td>2</td>\n",
       "      <td>Montvila, Rev. Juozas</td>\n",
       "      <td>0</td>\n",
       "      <td>27.0</td>\n",
       "      <td>0</td>\n",
       "      <td>0</td>\n",
       "      <td>211536</td>\n",
       "      <td>13.0000</td>\n",
       "      <td>NaN</td>\n",
       "      <td>S</td>\n",
       "    </tr>\n",
       "    <tr>\n",
       "      <th>887</th>\n",
       "      <td>888</td>\n",
       "      <td>1</td>\n",
       "      <td>1</td>\n",
       "      <td>Graham, Miss. Margaret Edith</td>\n",
       "      <td>1</td>\n",
       "      <td>19.0</td>\n",
       "      <td>0</td>\n",
       "      <td>0</td>\n",
       "      <td>112053</td>\n",
       "      <td>30.0000</td>\n",
       "      <td>B42</td>\n",
       "      <td>S</td>\n",
       "    </tr>\n",
       "    <tr>\n",
       "      <th>888</th>\n",
       "      <td>889</td>\n",
       "      <td>0</td>\n",
       "      <td>3</td>\n",
       "      <td>Johnston, Miss. Catherine Helen \"Carrie\"</td>\n",
       "      <td>1</td>\n",
       "      <td>NaN</td>\n",
       "      <td>1</td>\n",
       "      <td>2</td>\n",
       "      <td>W./C. 6607</td>\n",
       "      <td>23.4500</td>\n",
       "      <td>NaN</td>\n",
       "      <td>S</td>\n",
       "    </tr>\n",
       "    <tr>\n",
       "      <th>889</th>\n",
       "      <td>890</td>\n",
       "      <td>1</td>\n",
       "      <td>1</td>\n",
       "      <td>Behr, Mr. Karl Howell</td>\n",
       "      <td>0</td>\n",
       "      <td>26.0</td>\n",
       "      <td>0</td>\n",
       "      <td>0</td>\n",
       "      <td>111369</td>\n",
       "      <td>30.0000</td>\n",
       "      <td>C148</td>\n",
       "      <td>C</td>\n",
       "    </tr>\n",
       "    <tr>\n",
       "      <th>890</th>\n",
       "      <td>891</td>\n",
       "      <td>0</td>\n",
       "      <td>3</td>\n",
       "      <td>Dooley, Mr. Patrick</td>\n",
       "      <td>0</td>\n",
       "      <td>32.0</td>\n",
       "      <td>0</td>\n",
       "      <td>0</td>\n",
       "      <td>370376</td>\n",
       "      <td>7.7500</td>\n",
       "      <td>NaN</td>\n",
       "      <td>Q</td>\n",
       "    </tr>\n",
       "  </tbody>\n",
       "</table>\n",
       "<p>891 rows × 12 columns</p>\n",
       "</div>"
      ],
      "text/plain": [
       "     PassengerId  Survived  Pclass  \\\n",
       "0              1         0       3   \n",
       "1              2         1       1   \n",
       "2              3         1       3   \n",
       "3              4         1       1   \n",
       "4              5         0       3   \n",
       "..           ...       ...     ...   \n",
       "886          887         0       2   \n",
       "887          888         1       1   \n",
       "888          889         0       3   \n",
       "889          890         1       1   \n",
       "890          891         0       3   \n",
       "\n",
       "                                                  Name  Sex   Age  SibSp  \\\n",
       "0                              Braund, Mr. Owen Harris    0  22.0      1   \n",
       "1    Cumings, Mrs. John Bradley (Florence Briggs Th...    1  38.0      1   \n",
       "2                               Heikkinen, Miss. Laina    1  26.0      0   \n",
       "3         Futrelle, Mrs. Jacques Heath (Lily May Peel)    1  35.0      1   \n",
       "4                             Allen, Mr. William Henry    0  35.0      0   \n",
       "..                                                 ...  ...   ...    ...   \n",
       "886                              Montvila, Rev. Juozas    0  27.0      0   \n",
       "887                       Graham, Miss. Margaret Edith    1  19.0      0   \n",
       "888           Johnston, Miss. Catherine Helen \"Carrie\"    1   NaN      1   \n",
       "889                              Behr, Mr. Karl Howell    0  26.0      0   \n",
       "890                                Dooley, Mr. Patrick    0  32.0      0   \n",
       "\n",
       "     Parch            Ticket     Fare Cabin Embarked  \n",
       "0        0         A/5 21171   7.2500   NaN        S  \n",
       "1        0          PC 17599  71.2833   C85        C  \n",
       "2        0  STON/O2. 3101282   7.9250   NaN        S  \n",
       "3        0            113803  53.1000  C123        S  \n",
       "4        0            373450   8.0500   NaN        S  \n",
       "..     ...               ...      ...   ...      ...  \n",
       "886      0            211536  13.0000   NaN        S  \n",
       "887      0            112053  30.0000   B42        S  \n",
       "888      2        W./C. 6607  23.4500   NaN        S  \n",
       "889      0            111369  30.0000  C148        C  \n",
       "890      0            370376   7.7500   NaN        Q  \n",
       "\n",
       "[891 rows x 12 columns]"
      ]
     },
     "execution_count": 18,
     "metadata": {},
     "output_type": "execute_result"
    }
   ],
   "source": [
    "#Lectura de datos para análsis exploratorio\n",
    "db.head(891)"
   ]
  },
  {
   "cell_type": "markdown",
   "id": "d048e982-3579-49f2-9ee3-89d939b903b6",
   "metadata": {},
   "source": [
    "## 2. Realizar limpieza de datos"
   ]
  },
  {
   "cell_type": "code",
   "execution_count": 8,
   "id": "a8d939dc-893f-497d-8e18-5061372b6f57",
   "metadata": {},
   "outputs": [
    {
     "data": {
      "text/plain": [
       "Text(0.5, 1.0, 'Representación de datos atipicos y faltantes para tarifa')"
      ]
     },
     "execution_count": 8,
     "metadata": {},
     "output_type": "execute_result"
    },
    {
     "data": {
      "image/png": "[encoded data removed]",
      "text/plain": [
       "<Figure size 600x300 with 1 Axes>"
      ]
     },
     "metadata": {},
     "output_type": "display_data"
    }
   ],
   "source": [
    "#Identificación de datos faltantes y atipicos\n",
    "plt.figure(figsize=(6,3))\n",
    "sns.boxplot(x=db['Fare']) \n",
    "plt.title('Representación de datos atipicos y faltantes para tarifa', fontsize=10)\n",
    "#Text(0.5, 1.0, 'Identificación datos faltantes')"
   ]
  },
  {
   "cell_type": "raw",
   "id": "4b98fd2c-acea-4769-b5d1-2ee856817661",
   "metadata": {},
   "source": [
    "Hay un valor atípico de 512, siendo este el valor más alto de tarifa, además existen otros valores atípicos que afectan los datos, observando que hay gran desigualdad en el costo del viaje en el Titanic, hay una variabilidad considerable, así que hay mayor dispersión de los datos con respecto a la media, en este caso los valores de la tarifa no se modificarán ni se realiza tratamiento de datos debido a qué esta variable no se va a incluir en la regresión lineal."
   ]
  },
  {
   "cell_type": "code",
   "execution_count": 19,
   "id": "d180b33f-6a71-4c77-b694-610cb4de49c4",
   "metadata": {},
   "outputs": [
    {
     "data": {
      "text/plain": [
       "Text(0.5, 1.0, 'Representación de datos atipicos y faltantes de edad')"
      ]
     },
     "execution_count": 19,
     "metadata": {},
     "output_type": "execute_result"
    },
    {
     "data": {
      "image/png": "[encoded data removed]",
      "text/plain": [
       "<Figure size 600x300 with 1 Axes>"
      ]
     },
     "metadata": {},
     "output_type": "display_data"
    }
   ],
   "source": [
    "#Identificación de datos faltantes y atipicos\n",
    "plt.figure(figsize=(6,3))\n",
    "sns.boxplot(x=db['Age']) \n",
    "plt.title('Representación de datos atipicos y faltantes de edad', fontsize=10)\n",
    "#Text(0.5, 1.0, 'Identificación datos faltantes')"
   ]
  },
  {
   "cell_type": "code",
   "execution_count": 20,
   "id": "ea3f84e6-20ef-4a96-9526-5724b8822d2a",
   "metadata": {},
   "outputs": [
    {
     "name": "stdout",
     "output_type": "stream",
     "text": [
      "Limite inferior es:  -6.6875\n",
      "Limite superior es:  64.8125\n"
     ]
    }
   ],
   "source": [
    "# Calcular cuartiles y IQR\n",
    "q1 = 20.125000\n",
    "q3 = 38.000000 \n",
    "iqr = q3 - q1\n",
    "\n",
    "# Calcular límites de los bigotes\n",
    "limite_inferior = q1 - 1.5 * iqr\n",
    "limite_superior = q3 + 1.5 * iqr\n",
    "print(\"Limite inferior es: \", limite_inferior)\n",
    "print(\"Limite superior es: \", limite_superior )"
   ]
  },
  {
   "cell_type": "raw",
   "id": "0edd19e4-904b-4600-b9fe-0daaf5535eb7",
   "metadata": {},
   "source": [
    "Los datos de la variable edad tiene menor disperción, menor variabilidad 14,52, se observan datos atipicos superiores a 64,8, esto segun el valor del rango intercurtul Q3+1,5*RI"
   ]
  },
  {
   "cell_type": "code",
   "execution_count": 11,
   "id": "3db6a96a-5bf3-4869-b0ac-dba7f1194dd9",
   "metadata": {},
   "outputs": [],
   "source": [
    "#2. Preprocesar los datos limpiándolos, tratando valores faltantes y transformándolos según sea necesario."
   ]
  },
  {
   "cell_type": "raw",
   "id": "bcc45d66-f25f-4079-84f7-667fd3abc624",
   "metadata": {},
   "source": [
    "En el caso de las variables caterogicas como ticket, cabin y enbarcación se procede con otro tratamiento."
   ]
  },
  {
   "cell_type": "code",
   "execution_count": 21,
   "id": "819d8e4e-82aa-4294-bf6d-3e6c9c3d2934",
   "metadata": {},
   "outputs": [
    {
     "name": "stdout",
     "output_type": "stream",
     "text": [
      "Cantidad de datos de columna sobreviviente sin información:  0\n",
      "Cantidad de datos de columna clase sin información:  0\n",
      "Cantidad de datos de columna sexo sin información:  0\n",
      "Cantidad de datos de columna edad sin información:  177\n",
      "Cantidad de datos de columna SibSp sin información:  0\n",
      "Cantidad de datos de columna Path sin información:  0\n",
      "Cantidad de datos de columna Ticket sin información:  0\n",
      "Cantidad de datos de columna Tarifa sin información:  0\n",
      "Cantidad de datos de columna Cabina sin información:  687\n",
      "Cantidad de datos de columna Embarcación sin información:  2\n"
     ]
    }
   ],
   "source": [
    "##Para valores  nulos\n",
    "print(\"Cantidad de datos de columna sobreviviente sin información: \",db['Survived'].isnull().sum())  \n",
    "print(\"Cantidad de datos de columna clase sin información: \",db['Pclass'].isnull().sum())  \n",
    "print(\"Cantidad de datos de columna sexo sin información: \",db['Sex'].isnull().sum())  \n",
    "print(\"Cantidad de datos de columna edad sin información: \",db['Age'].isnull().sum())  \n",
    "print(\"Cantidad de datos de columna SibSp sin información: \",db['SibSp'].isnull().sum())  \n",
    "print(\"Cantidad de datos de columna Path sin información: \",db['Parch'].isnull().sum())  \n",
    "print(\"Cantidad de datos de columna Ticket sin información: \",db['Ticket'].isnull().sum())  \n",
    "print(\"Cantidad de datos de columna Tarifa sin información: \",db['Fare'].isnull().sum())  \n",
    "print(\"Cantidad de datos de columna Cabina sin información: \",db['Cabin'].isnull().sum())  \n",
    "print(\"Cantidad de datos de columna Embarcación sin información: \",db['Embarked'].isnull().sum())  "
   ]
  },
  {
   "cell_type": "raw",
   "id": "2b0c6dfe-b650-42e5-bb8e-2a267a10af0b",
   "metadata": {},
   "source": [
    "Se observa que hay valores nulos o faltantes en la columna edad, cabina y enbarcación.\t"
   ]
  },
  {
   "cell_type": "code",
   "execution_count": 22,
   "id": "c6d80e1b-3655-446b-bbab-b68f5e5810f8",
   "metadata": {},
   "outputs": [],
   "source": [
    "# Reemplazar valores \n",
    "## db['Age'] = db['Age'].isnull().replace(0, 'SinData')\n",
    "mean_age = db['Age'].mean()\n",
    "db['Age'].fillna(mean_age, inplace=True)\n",
    "db['Cabin'] = db['Cabin'].isnull().replace(0, 'Sin datos') \n",
    "db['Embarked'] = db['Embarked'].isnull().replace(0, 'Sin datos')"
   ]
  },
  {
   "cell_type": "code",
   "execution_count": 23,
   "id": "2106fa9a-7020-46bc-a472-9ac37c5f3d4e",
   "metadata": {},
   "outputs": [
    {
     "name": "stdout",
     "output_type": "stream",
     "text": [
      "Cantidad de datos de columna edad sin información:  0\n",
      "Cantidad de datos de columna Cabina sin información:  0\n",
      "Cantidad de datos de columna Embarcación sin información:  0\n"
     ]
    }
   ],
   "source": [
    "##Para evaluar funcionamiento de linea anterior para reemplazar valores  nulos\n",
    "print(\"Cantidad de datos de columna edad sin información: \",db['Age'].isnull().sum()) \n",
    "print(\"Cantidad de datos de columna Cabina sin información: \",db['Cabin'].isnull().sum())  \n",
    "print(\"Cantidad de datos de columna Embarcación sin información: \",db['Embarked'].isnull().sum())  "
   ]
  },
  {
   "cell_type": "code",
   "execution_count": 24,
   "id": "8e9ca6ba-6937-46a1-b311-f7ee029bef9c",
   "metadata": {},
   "outputs": [
    {
     "name": "stdout",
     "output_type": "stream",
     "text": [
      "Limite inferior es:  -6.6875\n",
      "Limite superior es:  64.8125\n",
      "El total de los datos atipicos es 11\n"
     ]
    },
    {
     "data": {
      "text/plain": [
       "Text(0.5, 1.0, 'Representación de datos atipicos y faltantes')"
      ]
     },
     "execution_count": 24,
     "metadata": {},
     "output_type": "execute_result"
    },
    {
     "data": {
      "image/png": "[encoded data removed]",
      "text/plain": [
       "<Figure size 600x300 with 1 Axes>"
      ]
     },
     "metadata": {},
     "output_type": "display_data"
    }
   ],
   "source": [
    "# Reemplazar valores Atripicos\n",
    "# Calcular cuartiles y IQR\n",
    "q1 = 20.125000\n",
    "q3 = 38.000000 \n",
    "iqr = q3 - q1\n",
    "\n",
    "# Calcular límites de los bigotes\n",
    "limite_inferior = q1 - 1.5 * iqr\n",
    "limite_superior = q3 + 1.5 * iqr\n",
    "print(\"Limite inferior es: \", limite_inferior)\n",
    "print(\"Limite superior es: \", limite_superior )\n",
    "\n",
    "#Contar datos atipicos\n",
    "nivel_min = limite_inferior\n",
    "nivel_max = limite_superior\n",
    "Total_Antipicos=((db['Age']<nivel_min)|(db['Age']>nivel_max)).sum()\n",
    "print(\"El total de los datos atipicos es {}\".format(Total_Antipicos))\n",
    "\n",
    "#Graficar\n",
    "plt.figure(figsize=(6,3))\n",
    "sns.boxplot(x=db['Age'])\n",
    "plt.title('Representación de datos atipicos y faltantes', fontsize=10)\n",
    "#Text(0.5, 1.0, 'Identificación datos atipicos')"
   ]
  },
  {
   "cell_type": "code",
   "execution_count": 25,
   "id": "aefedcd8-e844-4b3f-9b49-ffcf1ab3c24a",
   "metadata": {},
   "outputs": [],
   "source": [
    "# Reemplazar valores Atripicos\n",
    "# Reemplazar valores Atripicos\n",
    "# Calcular cuartiles y IQR\n",
    "q1 = 20.125000\n",
    "q3 = 38.000000 \n",
    "iqr = q3 - q1\n",
    "\n",
    "# Calcular límites de los bigotes\n",
    "limite_inferior = q1 - 1.5 * iqr\n",
    "limite_superior = q3 + 1.5 * iqr\n",
    "# Calcular la media de la columna 'Age'\n",
    "mean_age = db['Age'].mean()\n",
    "# Reemplazar los outliers en la columna 'Age' con la media\n",
    "db.loc[(db['Age'] < limite_inferior) | (db['Age'] > limite_superior), 'Age'] = mean_age\n"
   ]
  },
  {
   "cell_type": "code",
   "execution_count": null,
   "id": "1ccd5363-fa1b-473c-bcc3-9b1b7f023eac",
   "metadata": {},
   "outputs": [],
   "source": [
    "# Validar que los datos faltantes fueron reemplazados\n",
    "# Calcular cuartiles y IQR\n",
    "q1 = 20.125000\n",
    "q3 = 38.000000 \n",
    "iqr = q3 - q1\n",
    "\n",
    "# Calcular límites de los bigotes\n",
    "limite_inferior = q1 - 1.5 * iqr\n",
    "limite_superior = q3 + 1.5 * iqr\n",
    "print(\"Limite inferior es: \", limite_inferior)\n",
    "print(\"Limite superior es: \", limite_superior )\n",
    "\n",
    "#Contar datos atipicos\n",
    "nivel_min = limite_inferior\n",
    "nivel_max = limite_superior\n",
    "Total_Antipicos=((db['Age']<nivel_min)|(db['Age']>nivel_max)).sum()\n",
    "print(\"El total de los datos atipicos es {}\".format(Total_Antipicos))"
   ]
  },
  {
   "cell_type": "markdown",
   "id": "c0d4184a-1b44-4de9-bcd8-1df781ce7b92",
   "metadata": {},
   "source": [
    "#Validar si se eliminaron datos atípicos\n",
    "Total_Antipicos=((Datos['selling_price']<nivel_min)|(Datos['selling_price']>nivel_max)).sum()\n",
    "print(\"El total de los datos atipicos es {}\".format(Total_Antipicos))"
   ]
  },
  {
   "cell_type": "code",
   "execution_count": null,
   "id": "b8a8af00-1701-4baa-88c7-7280ebe7ddb2",
   "metadata": {},
   "outputs": [],
   "source": [
    "#Revisar tipo de datos y datos faltantes\n",
    "db.info()"
   ]
  },
  {
   "cell_type": "markdown",
   "id": "3fde9c35-7a9a-42e1-acfc-638ce1617006",
   "metadata": {},
   "source": [
    "## 3.Selección de característica más relevante"
   ]
  },
  {
   "cell_type": "code",
   "execution_count": 26,
   "id": "6d280f72-21a8-48c2-aede-8a6517be2e70",
   "metadata": {},
   "outputs": [
    {
     "data": {
      "text/plain": [
       "Age\n",
       "29.699118    188\n",
       "24.000000     30\n",
       "22.000000     27\n",
       "18.000000     26\n",
       "28.000000     25\n",
       "            ... \n",
       "12.000000      1\n",
       "0.670000       1\n",
       "36.500000      1\n",
       "0.420000       1\n",
       "34.500000      1\n",
       "Name: count, Length: 82, dtype: int64"
      ]
     },
     "execution_count": 26,
     "metadata": {},
     "output_type": "execute_result"
    }
   ],
   "source": [
    "#3.Selección de carácteristicas más relevantes para entrenar el modelo\n",
    "db['Age'].value_counts()\n"
   ]
  },
  {
   "cell_type": "raw",
   "id": "02044433-1a69-413a-9278-70ebc71e4242",
   "metadata": {},
   "source": [
    "En este caso se ha seleccionado la variable sobrevivientes como variable dependiente de la variable edad, eso indica que la sobrevivencia dependerá de la edadad"
   ]
  },
  {
   "cell_type": "code",
   "execution_count": 27,
   "id": "07d220af-147e-4e77-aff2-ae62041d4451",
   "metadata": {},
   "outputs": [
    {
     "data": {
      "text/plain": [
       "Survived\n",
       "0    549\n",
       "1    342\n",
       "Name: count, dtype: int64"
      ]
     },
     "execution_count": 27,
     "metadata": {},
     "output_type": "execute_result"
    }
   ],
   "source": [
    "db['Survived'].value_counts()\n"
   ]
  },
  {
   "cell_type": "code",
   "execution_count": null,
   "id": "84fd4d28-50e0-4cdd-876d-04a314fca0f9",
   "metadata": {},
   "outputs": [],
   "source": [
    "db['Sex'].value_counts()"
   ]
  },
  {
   "cell_type": "code",
   "execution_count": null,
   "id": "26a3d785-f9be-410e-93ba-bca479781002",
   "metadata": {},
   "outputs": [],
   "source": [
    "db['Pclass'].value_counts()"
   ]
  },
  {
   "cell_type": "code",
   "execution_count": 29,
   "id": "e688e6af-47b1-4ce5-9e15-3c5d44e45e41",
   "metadata": {},
   "outputs": [],
   "source": [
    "# Seleccionar las características (X) y la variable objetivo (y)\n",
    "X = db[['Survived']].values  \n",
    "Y = db['Age'].values   "
   ]
  },
  {
   "cell_type": "code",
   "execution_count": 34,
   "id": "951e31b0-b4bb-472d-9a6c-b63f8fda3de7",
   "metadata": {},
   "outputs": [
    {
     "name": "stdout",
     "output_type": "stream",
     "text": [
      "<class 'pandas.core.frame.DataFrame'>\n",
      "RangeIndex: 891 entries, 0 to 890\n",
      "Data columns (total 2 columns):\n",
      " #   Column    Non-Null Count  Dtype  \n",
      "---  ------    --------------  -----  \n",
      " 0   Survived  891 non-null    int64  \n",
      " 1   Age       891 non-null    float64\n",
      "dtypes: float64(1), int64(1)\n",
      "memory usage: 14.1 KB\n"
     ]
    }
   ],
   "source": [
    "db.info()"
   ]
  },
  {
   "cell_type": "markdown",
   "id": "3bd5a0c9-0212-4348-9f7d-50fc43a76161",
   "metadata": {},
   "source": [
    "## 4.Dividir la base de datos en train y test para evaluación de modelo"
   ]
  },
  {
   "cell_type": "code",
   "execution_count": 35,
   "id": "a2f77299-eea9-4d63-8250-aafb2ac3490b",
   "metadata": {},
   "outputs": [],
   "source": [
    "#Dividir data en train y test para evaluar correctamente el modelo\n",
    "#Porcentaje de datos para entrenamiento (train) = 75% y para prueba (test) = 25%\n",
    "#Se crean variables para almacenar la información\n",
    "#X = Datos.drop('selling_price', axis=1) #Se cargan los datos en train sin los datos de la columna\n",
    "#Y = Datos['selling_price'] #Se cargan los datos en train con los datos de la columna precio\n",
    "\n",
    "#La función train_test_split crea una divición de un conjunto de datos bloques uno de entrenamiento y otro de prueba (train and test)\n",
    "#X_train, X_test, Y_train, Y_test = train_test_split(X, Y, test_size=0.25, random_state= 0)\n",
    "\n",
    "db = db[['Survived', 'Age']]\n",
    "X = db.drop('Age',axis=1)\n",
    "Y = db['Survived']\n",
    "X_train, X_test, Y_train, Y_test = train_test_split(X, Y, test_size=0.25, random_state= 0)"
   ]
  },
  {
   "cell_type": "code",
   "execution_count": 36,
   "id": "f066e01d-27bc-4629-9059-52a34b03ab8d",
   "metadata": {},
   "outputs": [
    {
     "name": "stdout",
     "output_type": "stream",
     "text": [
      "     Survived\n",
      "105         0\n",
      "68          1\n",
      "253         0\n",
      "320         0\n",
      "706         1\n",
      "..        ...\n",
      "835         1\n",
      "192         1\n",
      "629         0\n",
      "559         1\n",
      "684         0\n",
      "\n",
      "[668 rows x 1 columns]\n"
     ]
    }
   ],
   "source": [
    "print (X_train)"
   ]
  },
  {
   "cell_type": "code",
   "execution_count": 37,
   "id": "fc48b0b1-4f90-482b-a956-141d084e6987",
   "metadata": {},
   "outputs": [
    {
     "name": "stdout",
     "output_type": "stream",
     "text": [
      "105    0\n",
      "68     1\n",
      "253    0\n",
      "320    0\n",
      "706    1\n",
      "      ..\n",
      "835    1\n",
      "192    1\n",
      "629    0\n",
      "559    1\n",
      "684    0\n",
      "Name: Survived, Length: 668, dtype: int64\n"
     ]
    }
   ],
   "source": [
    "print (Y_train)"
   ]
  },
  {
   "cell_type": "markdown",
   "id": "6236536b-d4c1-4e85-b8ed-ce758d7f2474",
   "metadata": {},
   "source": [
    "## 5.Entrenar modelo configurando diferentes hiperparámetros."
   ]
  },
  {
   "cell_type": "code",
   "execution_count": 38,
   "id": "d79af966-a337-4107-96d1-c33c61fe012a",
   "metadata": {},
   "outputs": [],
   "source": [
    "#5.Entrenamiento el modelo configurado los diferentes hiperparámetros\n",
    "#Contruir el modelo de regreción logistica\n",
    "modelo_regresion = LogisticRegression(solver = \"liblinear\") # librinear es una libreria para resolver problemas lineales de clasificación y regreción\n",
    "##Diferencia con respecto a regreción linea\n",
    "# modelo_regresion = LinearRegression(solver = \"liblinear\") # librinear es una libreria para resolver problemas lineales de clasificación y regreción\n",
    "modelo_regresion.fit (X_train, Y_train)\n",
    "#crear el modelo de prediccion\n",
    "Prediccion = modelo_regresion.predict(X_test) #la funcion predict  predice los valores  a partir de conjunto de datos de vaidación\n",
    "\n",
    "db = db[['Survived', 'Age']]\n",
    "X = db.drop('Survived',axis=1)\n",
    "Y = db['Age']\n",
    "X_train, X_test, Y_train, Y_test = train_test_split(X, Y, test_size=0.25, random_state= 0)\n"
   ]
  },
  {
   "cell_type": "code",
   "execution_count": 39,
   "id": "04e09fec-3034-4667-b9c2-dfe5df8c8f34",
   "metadata": {},
   "outputs": [
    {
     "name": "stdout",
     "output_type": "stream",
     "text": [
      "[0 0 0 1 1 1 1 1 1 1 0 1 0 1 1 0 0 0 0 1 0 1 0 0 0 1 0 1 1 0 0 1 0 1 0 1 0\n",
      " 0 0 0 1 0 0 0 1 0 0 1 0 0 1 1 1 0 1 0 0 0 0 1 0 0 1 0 1 0 1 0 1 1 1 1 0 0\n",
      " 0 1 0 0 0 0 0 1 0 0 0 1 1 1 1 0 0 0 1 1 0 0 1 0 0 1 0 0 0 0 0 1 1 0 0 1 0\n",
      " 1 1 0 1 1 1 1 0 1 1 0 0 0 0 0 0 1 0 0 0 0 0 0 0 0 0 0 0 0 0 1 0 0 1 0 0 1\n",
      " 1 0 0 1 0 0 1 0 0 1 0 1 0 1 1 1 0 0 0 0 0 0 0 1 0 0 1 0 1 0 0 0 0 0 0 0 0\n",
      " 0 1 0 0 1 0 0 1 1 0 0 0 1 1 0 1 0 0 1 1 0 0 0 1 0 0 1 0 0 0 0 0 1 0 1 0 1\n",
      " 1]\n"
     ]
    }
   ],
   "source": [
    "print (Prediccion)"
   ]
  },
  {
   "cell_type": "code",
   "execution_count": 40,
   "id": "94d625e7-1912-421f-bcc6-1cb4759105b8",
   "metadata": {},
   "outputs": [
    {
     "data": {
      "image/png": "[encoded data removed]",
      "text/plain": [
       "<Figure size 1000x600 with 1 Axes>"
      ]
     },
     "metadata": {},
     "output_type": "display_data"
    }
   ],
   "source": [
    "# Crear una instancia del modelo de regresión lineal\n",
    "modelo = LinearRegression()\n",
    "# Ajustar el modelo a los datos de entrenamiento\n",
    "modelo.fit(X_train, Y_train)\n",
    "\n",
    "# Seleccionar una característica para la visualización (por ejemplo, 'X1')\n",
    "X1 = db[['Age']].values\n",
    "\n",
    "# Predecir los valores de Y utilizando el modelo ajustado\n",
    "y_pred = modelo.predict(X)\n",
    "\n",
    "# Graficar los datos y la línea de regresión\n",
    "plt.figure(figsize=(10, 6))\n",
    "plt.scatter(X1, y, color='blue', label='Datos')\n",
    "plt.plot(X1, y_pred, color='red', linewidth=2, label='Línea de Regresión')\n",
    "plt.title('Regresión Lineal')\n",
    "plt.xlabel('Edad')\n",
    "plt.ylabel('Sobreviventes')\n",
    "plt.legend()\n",
    "plt.show()"
   ]
  },
  {
   "cell_type": "markdown",
   "id": "5b707c62-4448-4cb3-96df-f4e0a87f5116",
   "metadata": {},
   "source": [
    "## 6. Evaluación de desempeños del modelo"
   ]
  },
  {
   "cell_type": "code",
   "execution_count": 42,
   "id": "e8daa2ca-3cb6-4223-b21f-beec9149a3c5",
   "metadata": {},
   "outputs": [
    {
     "ename": "ValueError",
     "evalue": "Found input variables with inconsistent numbers of samples: [668, 223]",
     "output_type": "error",
     "traceback": [
      "\u001b[1;31m---------------------------------------------------------------------------\u001b[0m",
      "\u001b[1;31mValueError\u001b[0m                                Traceback (most recent call last)",
      "Cell \u001b[1;32mIn[42], line 4\u001b[0m\n\u001b[0;32m      1\u001b[0m \u001b[38;5;66;03m# Calcular métricas de evaluación\u001b[39;00m\n\u001b[0;32m      2\u001b[0m \u001b[38;5;28;01mfrom\u001b[39;00m \u001b[38;5;21;01msklearn\u001b[39;00m\u001b[38;5;21;01m.\u001b[39;00m\u001b[38;5;21;01mmetrics\u001b[39;00m \u001b[38;5;28;01mimport\u001b[39;00m mean_squared_error\n\u001b[1;32m----> 4\u001b[0m mse \u001b[38;5;241m=\u001b[39m mean_squared_error(Y_train, Prediccion)\n\u001b[0;32m      5\u001b[0m \u001b[38;5;28mprint\u001b[39m(\u001b[38;5;124mf\u001b[39m\u001b[38;5;124m'\u001b[39m\u001b[38;5;124mMSE: \u001b[39m\u001b[38;5;132;01m{\u001b[39;00mmse\u001b[38;5;132;01m}\u001b[39;00m\u001b[38;5;124m'\u001b[39m)\n\u001b[0;32m      6\u001b[0m \u001b[38;5;28;01mimport\u001b[39;00m \u001b[38;5;21;01mnumpy\u001b[39;00m \u001b[38;5;28;01mas\u001b[39;00m \u001b[38;5;21;01mnp\u001b[39;00m\n",
      "File \u001b[1;32m~\\anaconda3\\Lib\\site-packages\\sklearn\\metrics\\_regression.py:442\u001b[0m, in \u001b[0;36mmean_squared_error\u001b[1;34m(y_true, y_pred, sample_weight, multioutput, squared)\u001b[0m\n\u001b[0;32m    382\u001b[0m \u001b[38;5;28;01mdef\u001b[39;00m \u001b[38;5;21mmean_squared_error\u001b[39m(\n\u001b[0;32m    383\u001b[0m     y_true, y_pred, \u001b[38;5;241m*\u001b[39m, sample_weight\u001b[38;5;241m=\u001b[39m\u001b[38;5;28;01mNone\u001b[39;00m, multioutput\u001b[38;5;241m=\u001b[39m\u001b[38;5;124m\"\u001b[39m\u001b[38;5;124muniform_average\u001b[39m\u001b[38;5;124m\"\u001b[39m, squared\u001b[38;5;241m=\u001b[39m\u001b[38;5;28;01mTrue\u001b[39;00m\n\u001b[0;32m    384\u001b[0m ):\n\u001b[0;32m    385\u001b[0m \u001b[38;5;250m    \u001b[39m\u001b[38;5;124;03m\"\"\"Mean squared error regression loss.\u001b[39;00m\n\u001b[0;32m    386\u001b[0m \n\u001b[0;32m    387\u001b[0m \u001b[38;5;124;03m    Read more in the :ref:`User Guide <mean_squared_error>`.\u001b[39;00m\n\u001b[1;32m   (...)\u001b[0m\n\u001b[0;32m    440\u001b[0m \u001b[38;5;124;03m    0.825...\u001b[39;00m\n\u001b[0;32m    441\u001b[0m \u001b[38;5;124;03m    \"\"\"\u001b[39;00m\n\u001b[1;32m--> 442\u001b[0m     y_type, y_true, y_pred, multioutput \u001b[38;5;241m=\u001b[39m _check_reg_targets(\n\u001b[0;32m    443\u001b[0m         y_true, y_pred, multioutput\n\u001b[0;32m    444\u001b[0m     )\n\u001b[0;32m    445\u001b[0m     check_consistent_length(y_true, y_pred, sample_weight)\n\u001b[0;32m    446\u001b[0m     output_errors \u001b[38;5;241m=\u001b[39m np\u001b[38;5;241m.\u001b[39maverage((y_true \u001b[38;5;241m-\u001b[39m y_pred) \u001b[38;5;241m*\u001b[39m\u001b[38;5;241m*\u001b[39m \u001b[38;5;241m2\u001b[39m, axis\u001b[38;5;241m=\u001b[39m\u001b[38;5;241m0\u001b[39m, weights\u001b[38;5;241m=\u001b[39msample_weight)\n",
      "File \u001b[1;32m~\\anaconda3\\Lib\\site-packages\\sklearn\\metrics\\_regression.py:100\u001b[0m, in \u001b[0;36m_check_reg_targets\u001b[1;34m(y_true, y_pred, multioutput, dtype)\u001b[0m\n\u001b[0;32m     66\u001b[0m \u001b[38;5;28;01mdef\u001b[39;00m \u001b[38;5;21m_check_reg_targets\u001b[39m(y_true, y_pred, multioutput, dtype\u001b[38;5;241m=\u001b[39m\u001b[38;5;124m\"\u001b[39m\u001b[38;5;124mnumeric\u001b[39m\u001b[38;5;124m\"\u001b[39m):\n\u001b[0;32m     67\u001b[0m \u001b[38;5;250m    \u001b[39m\u001b[38;5;124;03m\"\"\"Check that y_true and y_pred belong to the same regression task.\u001b[39;00m\n\u001b[0;32m     68\u001b[0m \n\u001b[0;32m     69\u001b[0m \u001b[38;5;124;03m    Parameters\u001b[39;00m\n\u001b[1;32m   (...)\u001b[0m\n\u001b[0;32m     98\u001b[0m \u001b[38;5;124;03m        correct keyword.\u001b[39;00m\n\u001b[0;32m     99\u001b[0m \u001b[38;5;124;03m    \"\"\"\u001b[39;00m\n\u001b[1;32m--> 100\u001b[0m     check_consistent_length(y_true, y_pred)\n\u001b[0;32m    101\u001b[0m     y_true \u001b[38;5;241m=\u001b[39m check_array(y_true, ensure_2d\u001b[38;5;241m=\u001b[39m\u001b[38;5;28;01mFalse\u001b[39;00m, dtype\u001b[38;5;241m=\u001b[39mdtype)\n\u001b[0;32m    102\u001b[0m     y_pred \u001b[38;5;241m=\u001b[39m check_array(y_pred, ensure_2d\u001b[38;5;241m=\u001b[39m\u001b[38;5;28;01mFalse\u001b[39;00m, dtype\u001b[38;5;241m=\u001b[39mdtype)\n",
      "File \u001b[1;32m~\\anaconda3\\Lib\\site-packages\\sklearn\\utils\\validation.py:397\u001b[0m, in \u001b[0;36mcheck_consistent_length\u001b[1;34m(*arrays)\u001b[0m\n\u001b[0;32m    395\u001b[0m uniques \u001b[38;5;241m=\u001b[39m np\u001b[38;5;241m.\u001b[39munique(lengths)\n\u001b[0;32m    396\u001b[0m \u001b[38;5;28;01mif\u001b[39;00m \u001b[38;5;28mlen\u001b[39m(uniques) \u001b[38;5;241m>\u001b[39m \u001b[38;5;241m1\u001b[39m:\n\u001b[1;32m--> 397\u001b[0m     \u001b[38;5;28;01mraise\u001b[39;00m \u001b[38;5;167;01mValueError\u001b[39;00m(\n\u001b[0;32m    398\u001b[0m         \u001b[38;5;124m\"\u001b[39m\u001b[38;5;124mFound input variables with inconsistent numbers of samples: \u001b[39m\u001b[38;5;132;01m%r\u001b[39;00m\u001b[38;5;124m\"\u001b[39m\n\u001b[0;32m    399\u001b[0m         \u001b[38;5;241m%\u001b[39m [\u001b[38;5;28mint\u001b[39m(l) \u001b[38;5;28;01mfor\u001b[39;00m l \u001b[38;5;129;01min\u001b[39;00m lengths]\n\u001b[0;32m    400\u001b[0m     )\n",
      "\u001b[1;31mValueError\u001b[0m: Found input variables with inconsistent numbers of samples: [668, 223]"
     ]
    }
   ],
   "source": [
    "# Calcular métricas de evaluación\n",
    "from sklearn.metrics import mean_squared_error\n",
    "\n",
    "mse = mean_squared_error(Y_train, Prediccion)\n",
    "print(f'MSE: {mse}')\n",
    "import numpy as np\n",
    "\n",
    "rmse = np.sqrt(mse)\n",
    "print(f'RMSE: {rmse}')"
   ]
  },
  {
   "cell_type": "code",
   "execution_count": 43,
   "id": "b8e1e343-0c3c-42a9-92f8-d6988ab4dc60",
   "metadata": {},
   "outputs": [
    {
     "ename": "NameError",
     "evalue": "name 'confusion_matrix' is not defined",
     "output_type": "error",
     "traceback": [
      "\u001b[1;31m---------------------------------------------------------------------------\u001b[0m",
      "\u001b[1;31mNameError\u001b[0m                                 Traceback (most recent call last)",
      "Cell \u001b[1;32mIn[43], line 2\u001b[0m\n\u001b[0;32m      1\u001b[0m \u001b[38;5;66;03m#Matriz de confución modelo\u001b[39;00m\n\u001b[1;32m----> 2\u001b[0m cm\u001b[38;5;241m=\u001b[39mconfusion_matrix(Y_test, Prediccion)\n\u001b[0;32m      3\u001b[0m disp\u001b[38;5;241m=\u001b[39mmatrics\u001b[38;5;241m.\u001b[39mConfusionMatrixDisplay(cofusion_matrixscm)\n\u001b[0;32m      4\u001b[0m disp\u001b[38;5;241m.\u001b[39mplot()\n",
      "\u001b[1;31mNameError\u001b[0m: name 'confusion_matrix' is not defined"
     ]
    }
   ],
   "source": [
    "#Matriz de confución modelo\n",
    "cm=confusion_matrix(Y_test, Prediccion)\n",
    "disp=matrics.ConfusionMatrixDisplay(cofusion_matrixscm)\n",
    "disp.plot()"
   ]
  },
  {
   "cell_type": "code",
   "execution_count": null,
   "id": "cae5e07c-213f-4440-90b6-23554d506de4",
   "metadata": {},
   "outputs": [],
   "source": []
  }
 ],
 "metadata": {
  "kernelspec": {
   "display_name": "Python 3 (ipykernel)",
   "language": "python",
   "name": "python3"
  },
  "language_info": {
   "codemirror_mode": {
    "name": "ipython",
    "version": 3
   },
   "file_extension": ".py",
   "mimetype": "text/x-python",
   "name": "python",
   "nbconvert_exporter": "python",
   "pygments_lexer": "ipython3",
   "version": "3.11.7"
  }
 },
 "nbformat": 4,
 "nbformat_minor": 5
}
